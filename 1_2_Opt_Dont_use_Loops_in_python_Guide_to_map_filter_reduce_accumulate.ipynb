{
  "nbformat": 4,
  "nbformat_minor": 0,
  "metadata": {
    "colab": {
      "provenance": [],
      "include_colab_link": true
    },
    "kernelspec": {
      "name": "python3",
      "display_name": "Python 3"
    },
    "language_info": {
      "name": "python"
    }
  },
  "cells": [
    {
      "cell_type": "markdown",
      "metadata": {
        "id": "view-in-github",
        "colab_type": "text"
      },
      "source": [
        "<a href=\"https://colab.research.google.com/github/naranjitoct/beyondjupyter/blob/main/1_2_Opt_Dont_use_Loops_in_python_Guide_to_map_filter_reduce_accumulate.ipynb\" target=\"_parent\"><img src=\"https://colab.research.google.com/assets/colab-badge.svg\" alt=\"Open In Colab\"/></a>"
      ]
    },
    {
      "cell_type": "markdown",
      "source": [
        "TLDR; For Loops are slow in python. Try to avoid them as much as possible.\n",
        "\n",
        "Instead use `map`, `filter`, `reduce`. "
      ],
      "metadata": {
        "id": "btzc2-Bntf3W"
      }
    },
    {
      "cell_type": "markdown",
      "source": [
        "Extracted and enhanced from https://medium.com/codex/3-most-effective-yet-underutilized-functions-in-python-d865ffaca0bb \n",
        "\n"
      ],
      "metadata": {
        "id": "fQ9O8r3utaY7"
      }
    },
    {
      "cell_type": "markdown",
      "source": [
        "# Map\n",
        "\n",
        "Apply a function to each value of an iterable object (list, tuple, etc.)."
      ],
      "metadata": {
        "id": "VvP7bvqUt2D6"
      }
    },
    {
      "cell_type": "code",
      "source": [
        "input_list = [2, 3, 4, 5, 6]\n",
        "#Creo otra lista para hacer pruebas\n",
        "input_list2 = [7,8,8,15,5]"
      ],
      "metadata": {
        "id": "Va2FUZ-LuHe4"
      },
      "execution_count": 19,
      "outputs": []
    },
    {
      "cell_type": "code",
      "source": [
        "def square(x):\n",
        "  return x*x\n",
        "\n",
        "# Without lambda \n",
        "result = map(square, input_list)\n",
        "print(list(result))"
      ],
      "metadata": {
        "id": "uslrnLsmuGjC",
        "colab": {
          "base_uri": "https://localhost:8080/"
        },
        "outputId": "5b889c09-f956-4622-9f05-40ca5969b71b"
      },
      "execution_count": 2,
      "outputs": [
        {
          "output_type": "stream",
          "name": "stdout",
          "text": [
            "[4, 9, 16, 25, 36]\n"
          ]
        }
      ]
    },
    {
      "cell_type": "code",
      "execution_count": 3,
      "metadata": {
        "id": "Rek_N2XktRRl",
        "colab": {
          "base_uri": "https://localhost:8080/"
        },
        "outputId": "563aba52-6a97-4cdc-b593-b87e27968dcb"
      },
      "outputs": [
        {
          "output_type": "stream",
          "name": "stdout",
          "text": [
            "[4, 9, 16, 25, 36]\n"
          ]
        }
      ],
      "source": [
        "# Using lambda function \n",
        "result = map(lambda x: x*x, input_list)\n",
        "print(list(result))"
      ]
    },
    {
      "cell_type": "markdown",
      "source": [
        "---\n",
        "❗ Fuera de las prácticas\n",
        "\n",
        "Buena explicación de los maps y distintas opciones:\n",
        "https://docs.hektorprofe.net/python/funcionalidades-avanzadas/funcion-map/\n",
        "\n",
        "Para filtros usa en función de crear una clase con métodos:\n",
        "https://docs.hektorprofe.net/python/funcionalidades-avanzadas/funcion-filter/\n",
        "\n",
        "\n",
        "---\n",
        "\n"
      ],
      "metadata": {
        "id": "wyBbSmB2Xl5q"
      }
    },
    {
      "cell_type": "code",
      "source": [
        "#Con la lista 2 hago otra prueba lambda... FUNCIONA BIEN... de esta forma puedo concatenar varias variables.\n",
        "result=map(lambda x,y:x+y,input_list,input_list2)\n",
        "print(list(result))"
      ],
      "metadata": {
        "colab": {
          "base_uri": "https://localhost:8080/"
        },
        "id": "bj45AMvSW40u",
        "outputId": "08ddd8cd-4dfc-47c1-cbfb-0cb2a528a1f3"
      },
      "execution_count": 27,
      "outputs": [
        {
          "output_type": "stream",
          "name": "stdout",
          "text": [
            "[9, 11, 13, 15, 17]\n"
          ]
        }
      ]
    },
    {
      "cell_type": "markdown",
      "source": [
        "# Filter\n",
        "\n",
        "Filter out values from an iterable object (list, tuple, sets, etc.). with regards to a condition specified as a function which is passed as an argument to the filter function."
      ],
      "metadata": {
        "id": "Vgh-j2DyukXq"
      }
    },
    {
      "cell_type": "code",
      "source": [
        "def less_than_5(x):\n",
        "  if x < 5:\n",
        "    return x \n",
        "\n",
        "# Without lambda \n",
        "result = filter(less_than_5, input_list)\n",
        "print(list(result))"
      ],
      "metadata": {
        "id": "EVicFbumurb5",
        "colab": {
          "base_uri": "https://localhost:8080/"
        },
        "outputId": "07b639e4-0c5a-4af7-f259-ea950b2fa0b0"
      },
      "execution_count": 11,
      "outputs": [
        {
          "output_type": "stream",
          "name": "stdout",
          "text": [
            "[2, 3, 4]\n"
          ]
        }
      ]
    },
    {
      "cell_type": "code",
      "source": [
        "# Using lambda function \n",
        "result = filter(lambda x:x<5, input_list)\n",
        "print(list(result))"
      ],
      "metadata": {
        "id": "yIVCSUlfuZmS",
        "colab": {
          "base_uri": "https://localhost:8080/"
        },
        "outputId": "b1481e2f-7d33-48d4-c28f-65e7f710b042"
      },
      "execution_count": 12,
      "outputs": [
        {
          "output_type": "stream",
          "name": "stdout",
          "text": [
            "[2, 3, 4]\n"
          ]
        }
      ]
    },
    {
      "cell_type": "code",
      "source": [
        "# compare map and filter results: \n",
        "result = map(lambda x:x<5, input_list)\n",
        "print(list(result))"
      ],
      "metadata": {
        "id": "5eFXMrnivF6Y",
        "colab": {
          "base_uri": "https://localhost:8080/"
        },
        "outputId": "cdf8bb3f-433c-4b30-df0c-fa703aa2a147"
      },
      "execution_count": 13,
      "outputs": [
        {
          "output_type": "stream",
          "name": "stdout",
          "text": [
            "[True, True, True, False, False]\n"
          ]
        }
      ]
    },
    {
      "cell_type": "code",
      "source": [
        "##HAGO OTRA\n",
        "result2=list(map(lambda y:y>2, input_list))\n",
        "print(result2)"
      ],
      "metadata": {
        "colab": {
          "base_uri": "https://localhost:8080/"
        },
        "id": "jOIn8L8hTSpe",
        "outputId": "9a33c48e-2bf5-4824-ba11-14b1665599b0"
      },
      "execution_count": 20,
      "outputs": [
        {
          "output_type": "stream",
          "name": "stdout",
          "text": [
            "[False, True, True, True, True]\n"
          ]
        }
      ]
    },
    {
      "cell_type": "markdown",
      "source": [
        "# Reduce\n",
        "\n",
        "The idea behind Python’s `reduce()` is to take an existing function, apply it **cumulatively** to all the items in an iterable, and generate a single final value. Since `reduce()` is written in C, its internal loop can be faster than an explicit Python for loop.\n",
        "\n",
        "`Reduce()` was originally a built-in python function, but was moved to `functools.reduce` in Python 3.x. "
      ],
      "metadata": {
        "id": "9jsPdLj-vgTi"
      }
    },
    {
      "cell_type": "code",
      "source": [
        "from functools import reduce"
      ],
      "metadata": {
        "id": "W38Ircq_wAMw"
      },
      "execution_count": 1,
      "outputs": []
    },
    {
      "cell_type": "code",
      "source": [
        "def addition(x,y):\n",
        "  return x + y\n",
        "\n",
        "# Without lambda \n",
        "result = reduce(addition, input_list)\n",
        "print(result)"
      ],
      "metadata": {
        "id": "ok6ldXYUvvkA",
        "colab": {
          "base_uri": "https://localhost:8080/"
        },
        "outputId": "9b10b0ff-c874-49fe-fe29-1415668473ab"
      },
      "execution_count": 4,
      "outputs": [
        {
          "output_type": "stream",
          "name": "stdout",
          "text": [
            "20\n"
          ]
        }
      ]
    },
    {
      "cell_type": "code",
      "source": [
        "## ¿Cuál el la diferencia con SUM? .... NPI.... al menos en un vector parece igual\n",
        "sum(input_list)"
      ],
      "metadata": {
        "colab": {
          "base_uri": "https://localhost:8080/"
        },
        "id": "-quQvnymqUeQ",
        "outputId": "39cc10b9-c39f-44d5-d13d-191e25c581b3"
      },
      "execution_count": 6,
      "outputs": [
        {
          "output_type": "execute_result",
          "data": {
            "text/plain": [
              "20"
            ]
          },
          "metadata": {},
          "execution_count": 6
        }
      ]
    },
    {
      "cell_type": "code",
      "source": [
        "# Using lambda function \n",
        "result = reduce(lambda x,y:x+y, input_list)\n",
        "print(result)"
      ],
      "metadata": {
        "id": "7eZsORQbvvkB",
        "colab": {
          "base_uri": "https://localhost:8080/"
        },
        "outputId": "b7f77e48-03f8-4f35-d0e0-b2d04c3bcb13"
      },
      "execution_count": 9,
      "outputs": [
        {
          "output_type": "stream",
          "name": "stdout",
          "text": [
            "20\n"
          ]
        }
      ]
    },
    {
      "cell_type": "code",
      "source": [
        "# Another example: compute the maximum or minimum value\n",
        "# Using lambda function \n",
        "result = reduce(lambda x,y:x if x<y else y, input_list)\n",
        "print(result)"
      ],
      "metadata": {
        "id": "IlCZS6lQyz0x",
        "colab": {
          "base_uri": "https://localhost:8080/"
        },
        "outputId": "e76af184-2280-49d9-86f6-55aa97911397"
      },
      "execution_count": 16,
      "outputs": [
        {
          "output_type": "stream",
          "name": "stdout",
          "text": [
            "1\n"
          ]
        }
      ]
    },
    {
      "cell_type": "markdown",
      "source": [
        "# Accumulate"
      ],
      "metadata": {
        "id": "cWgte_Nmz38F"
      }
    },
    {
      "cell_type": "code",
      "source": [
        "input_list"
      ],
      "metadata": {
        "colab": {
          "base_uri": "https://localhost:8080/"
        },
        "id": "wJAnfGSdslRI",
        "outputId": "844fe83b-8a9b-40c4-f1d6-e6238a3b49d9"
      },
      "execution_count": 23,
      "outputs": [
        {
          "output_type": "execute_result",
          "data": {
            "text/plain": [
              "[2, 3, 4, 5, 6]"
            ]
          },
          "metadata": {},
          "execution_count": 23
        }
      ]
    },
    {
      "cell_type": "code",
      "source": [
        "from itertools import accumulate"
      ],
      "metadata": {
        "id": "EFoDpCe80FvC"
      },
      "execution_count": 10,
      "outputs": []
    },
    {
      "cell_type": "code",
      "source": [
        "# by default accumulate performs the sum of the previous items\n",
        "result = accumulate(input_list) \n",
        "print(list(result))"
      ],
      "metadata": {
        "id": "IQdDx5tnz6fQ",
        "colab": {
          "base_uri": "https://localhost:8080/"
        },
        "outputId": "7bb8b133-78e0-412c-a46e-bdd31ebcf7c5"
      },
      "execution_count": 20,
      "outputs": [
        {
          "output_type": "stream",
          "name": "stdout",
          "text": [
            "[2, 5, 9, 14, 20]\n"
          ]
        }
      ]
    },
    {
      "cell_type": "code",
      "source": [
        "# using a given function for accumulation\n",
        "\n",
        "\n",
        "def mymult(x,y):\n",
        "  return x * y\n",
        "\n",
        "result = accumulate(input_list, mymult)\n",
        "print(list(result))"
      ],
      "metadata": {
        "id": "Dxq-fibG0PvB",
        "colab": {
          "base_uri": "https://localhost:8080/"
        },
        "outputId": "6ccbfb2f-5750-43ab-869c-bfc618fdf1b2"
      },
      "execution_count": 22,
      "outputs": [
        {
          "output_type": "stream",
          "name": "stdout",
          "text": [
            "[2, 6, 24, 120, 720]\n"
          ]
        }
      ]
    },
    {
      "cell_type": "markdown",
      "source": [
        "# Use with pandas.DataFrame"
      ],
      "metadata": {
        "id": "xlPKJvPc5YH0"
      }
    },
    {
      "cell_type": "markdown",
      "source": [
        "'map' is not a method of a DataFrame. but 'map' can be applied to each column, which is an iterable. "
      ],
      "metadata": {
        "id": "XFGgyRvL6lxf"
      }
    },
    {
      "cell_type": "code",
      "source": [
        "import pandas as pd"
      ],
      "metadata": {
        "id": "k3ZsEkuk5gxS"
      },
      "execution_count": 30,
      "outputs": []
    },
    {
      "cell_type": "code",
      "source": [
        "df = pd.DataFrame({'col1':[1,2,3,4,5], 'col2':[6,7,8,9,0]})\n",
        "df\n"
      ],
      "metadata": {
        "id": "qRAJf9ZW5eu1",
        "colab": {
          "base_uri": "https://localhost:8080/",
          "height": 206
        },
        "outputId": "352db05e-6bf5-472b-acc0-85e42832183f"
      },
      "execution_count": 29,
      "outputs": [
        {
          "output_type": "execute_result",
          "data": {
            "text/plain": [
              "   col1  col2\n",
              "0     1     6\n",
              "1     2     7\n",
              "2     3     8\n",
              "3     4     9\n",
              "4     5     0"
            ],
            "text/html": [
              "\n",
              "  <div id=\"df-8641e563-5562-49c5-9f47-03e42e5e6d34\">\n",
              "    <div class=\"colab-df-container\">\n",
              "      <div>\n",
              "<style scoped>\n",
              "    .dataframe tbody tr th:only-of-type {\n",
              "        vertical-align: middle;\n",
              "    }\n",
              "\n",
              "    .dataframe tbody tr th {\n",
              "        vertical-align: top;\n",
              "    }\n",
              "\n",
              "    .dataframe thead th {\n",
              "        text-align: right;\n",
              "    }\n",
              "</style>\n",
              "<table border=\"1\" class=\"dataframe\">\n",
              "  <thead>\n",
              "    <tr style=\"text-align: right;\">\n",
              "      <th></th>\n",
              "      <th>col1</th>\n",
              "      <th>col2</th>\n",
              "    </tr>\n",
              "  </thead>\n",
              "  <tbody>\n",
              "    <tr>\n",
              "      <th>0</th>\n",
              "      <td>1</td>\n",
              "      <td>6</td>\n",
              "    </tr>\n",
              "    <tr>\n",
              "      <th>1</th>\n",
              "      <td>2</td>\n",
              "      <td>7</td>\n",
              "    </tr>\n",
              "    <tr>\n",
              "      <th>2</th>\n",
              "      <td>3</td>\n",
              "      <td>8</td>\n",
              "    </tr>\n",
              "    <tr>\n",
              "      <th>3</th>\n",
              "      <td>4</td>\n",
              "      <td>9</td>\n",
              "    </tr>\n",
              "    <tr>\n",
              "      <th>4</th>\n",
              "      <td>5</td>\n",
              "      <td>0</td>\n",
              "    </tr>\n",
              "  </tbody>\n",
              "</table>\n",
              "</div>\n",
              "      <button class=\"colab-df-convert\" onclick=\"convertToInteractive('df-8641e563-5562-49c5-9f47-03e42e5e6d34')\"\n",
              "              title=\"Convert this dataframe to an interactive table.\"\n",
              "              style=\"display:none;\">\n",
              "        \n",
              "  <svg xmlns=\"http://www.w3.org/2000/svg\" height=\"24px\"viewBox=\"0 0 24 24\"\n",
              "       width=\"24px\">\n",
              "    <path d=\"M0 0h24v24H0V0z\" fill=\"none\"/>\n",
              "    <path d=\"M18.56 5.44l.94 2.06.94-2.06 2.06-.94-2.06-.94-.94-2.06-.94 2.06-2.06.94zm-11 1L8.5 8.5l.94-2.06 2.06-.94-2.06-.94L8.5 2.5l-.94 2.06-2.06.94zm10 10l.94 2.06.94-2.06 2.06-.94-2.06-.94-.94-2.06-.94 2.06-2.06.94z\"/><path d=\"M17.41 7.96l-1.37-1.37c-.4-.4-.92-.59-1.43-.59-.52 0-1.04.2-1.43.59L10.3 9.45l-7.72 7.72c-.78.78-.78 2.05 0 2.83L4 21.41c.39.39.9.59 1.41.59.51 0 1.02-.2 1.41-.59l7.78-7.78 2.81-2.81c.8-.78.8-2.07 0-2.86zM5.41 20L4 18.59l7.72-7.72 1.47 1.35L5.41 20z\"/>\n",
              "  </svg>\n",
              "      </button>\n",
              "      \n",
              "  <style>\n",
              "    .colab-df-container {\n",
              "      display:flex;\n",
              "      flex-wrap:wrap;\n",
              "      gap: 12px;\n",
              "    }\n",
              "\n",
              "    .colab-df-convert {\n",
              "      background-color: #E8F0FE;\n",
              "      border: none;\n",
              "      border-radius: 50%;\n",
              "      cursor: pointer;\n",
              "      display: none;\n",
              "      fill: #1967D2;\n",
              "      height: 32px;\n",
              "      padding: 0 0 0 0;\n",
              "      width: 32px;\n",
              "    }\n",
              "\n",
              "    .colab-df-convert:hover {\n",
              "      background-color: #E2EBFA;\n",
              "      box-shadow: 0px 1px 2px rgba(60, 64, 67, 0.3), 0px 1px 3px 1px rgba(60, 64, 67, 0.15);\n",
              "      fill: #174EA6;\n",
              "    }\n",
              "\n",
              "    [theme=dark] .colab-df-convert {\n",
              "      background-color: #3B4455;\n",
              "      fill: #D2E3FC;\n",
              "    }\n",
              "\n",
              "    [theme=dark] .colab-df-convert:hover {\n",
              "      background-color: #434B5C;\n",
              "      box-shadow: 0px 1px 3px 1px rgba(0, 0, 0, 0.15);\n",
              "      filter: drop-shadow(0px 1px 2px rgba(0, 0, 0, 0.3));\n",
              "      fill: #FFFFFF;\n",
              "    }\n",
              "  </style>\n",
              "\n",
              "      <script>\n",
              "        const buttonEl =\n",
              "          document.querySelector('#df-8641e563-5562-49c5-9f47-03e42e5e6d34 button.colab-df-convert');\n",
              "        buttonEl.style.display =\n",
              "          google.colab.kernel.accessAllowed ? 'block' : 'none';\n",
              "\n",
              "        async function convertToInteractive(key) {\n",
              "          const element = document.querySelector('#df-8641e563-5562-49c5-9f47-03e42e5e6d34');\n",
              "          const dataTable =\n",
              "            await google.colab.kernel.invokeFunction('convertToInteractive',\n",
              "                                                     [key], {});\n",
              "          if (!dataTable) return;\n",
              "\n",
              "          const docLinkHtml = 'Like what you see? Visit the ' +\n",
              "            '<a target=\"_blank\" href=https://colab.research.google.com/notebooks/data_table.ipynb>data table notebook</a>'\n",
              "            + ' to learn more about interactive tables.';\n",
              "          element.innerHTML = '';\n",
              "          dataTable['output_type'] = 'display_data';\n",
              "          await google.colab.output.renderOutput(dataTable, element);\n",
              "          const docLink = document.createElement('div');\n",
              "          docLink.innerHTML = docLinkHtml;\n",
              "          element.appendChild(docLink);\n",
              "        }\n",
              "      </script>\n",
              "    </div>\n",
              "  </div>\n",
              "  "
            ]
          },
          "metadata": {},
          "execution_count": 29
        }
      ]
    },
    {
      "cell_type": "code",
      "source": [
        "df1 = df['col1'].map()\n",
        "df1"
      ],
      "metadata": {
        "id": "j0ENvxQ451FT",
        "colab": {
          "base_uri": "https://localhost:8080/",
          "height": 190
        },
        "outputId": "4cf8059c-dc85-48c8-cf96-b6e297a04e34"
      },
      "execution_count": 31,
      "outputs": [
        {
          "output_type": "error",
          "ename": "TypeError",
          "evalue": "ignored",
          "traceback": [
            "\u001b[0;31m---------------------------------------------------------------------------\u001b[0m",
            "\u001b[0;31mTypeError\u001b[0m                                 Traceback (most recent call last)",
            "\u001b[0;32m<ipython-input-31-45465a3ddd67>\u001b[0m in \u001b[0;36m<module>\u001b[0;34m\u001b[0m\n\u001b[0;32m----> 1\u001b[0;31m \u001b[0mdf1\u001b[0m \u001b[0;34m=\u001b[0m \u001b[0mdf\u001b[0m\u001b[0;34m[\u001b[0m\u001b[0;34m'col1'\u001b[0m\u001b[0;34m]\u001b[0m\u001b[0;34m.\u001b[0m\u001b[0mmap\u001b[0m\u001b[0;34m(\u001b[0m\u001b[0;34m)\u001b[0m\u001b[0;34m\u001b[0m\u001b[0;34m\u001b[0m\u001b[0m\n\u001b[0m\u001b[1;32m      2\u001b[0m \u001b[0mdf1\u001b[0m\u001b[0;34m\u001b[0m\u001b[0;34m\u001b[0m\u001b[0m\n",
            "\u001b[0;31mTypeError\u001b[0m: map() missing 1 required positional argument: 'arg'"
          ]
        }
      ]
    },
    {
      "cell_type": "markdown",
      "source": [
        "For dataframes, pandas has the 'applymap' method: "
      ],
      "metadata": {
        "id": "GiWf5V9M7pLb"
      }
    },
    {
      "cell_type": "code",
      "source": [
        "df2 = df.applymap(square)\n",
        "df2"
      ],
      "metadata": {
        "id": "zvLCJurT6S04",
        "colab": {
          "base_uri": "https://localhost:8080/",
          "height": 190
        },
        "outputId": "4b35b99a-06b2-476c-a097-fc2b5bbb5644"
      },
      "execution_count": 33,
      "outputs": [
        {
          "output_type": "error",
          "ename": "NameError",
          "evalue": "ignored",
          "traceback": [
            "\u001b[0;31m---------------------------------------------------------------------------\u001b[0m",
            "\u001b[0;31mNameError\u001b[0m                                 Traceback (most recent call last)",
            "\u001b[0;32m<ipython-input-33-6060c60462e0>\u001b[0m in \u001b[0;36m<module>\u001b[0;34m\u001b[0m\n\u001b[0;32m----> 1\u001b[0;31m \u001b[0mdf2\u001b[0m \u001b[0;34m=\u001b[0m \u001b[0mdf\u001b[0m\u001b[0;34m.\u001b[0m\u001b[0mapplymap\u001b[0m\u001b[0;34m(\u001b[0m\u001b[0msquare\u001b[0m\u001b[0;34m)\u001b[0m\u001b[0;34m\u001b[0m\u001b[0;34m\u001b[0m\u001b[0m\n\u001b[0m\u001b[1;32m      2\u001b[0m \u001b[0mdf2\u001b[0m\u001b[0;34m\u001b[0m\u001b[0;34m\u001b[0m\u001b[0m\n",
            "\u001b[0;31mNameError\u001b[0m: name 'square' is not defined"
          ]
        }
      ]
    },
    {
      "cell_type": "markdown",
      "source": [
        "Other examples: "
      ],
      "metadata": {
        "id": "oCmRZuYN8EKw"
      }
    },
    {
      "cell_type": "code",
      "source": [
        "df3 = df['col2'].map({1:'a',0:'b'})\n",
        "df3"
      ],
      "metadata": {
        "id": "nDLBKP1E7AoP",
        "colab": {
          "base_uri": "https://localhost:8080/"
        },
        "outputId": "faf5f746-82df-420f-aed2-3d538b4e778e"
      },
      "execution_count": 32,
      "outputs": [
        {
          "output_type": "execute_result",
          "data": {
            "text/plain": [
              "0    NaN\n",
              "1    NaN\n",
              "2    NaN\n",
              "3    NaN\n",
              "4      b\n",
              "Name: col2, dtype: object"
            ]
          },
          "metadata": {},
          "execution_count": 32
        }
      ]
    },
    {
      "cell_type": "code",
      "source": [],
      "metadata": {
        "id": "UF0kigMG8W5u"
      },
      "execution_count": null,
      "outputs": []
    }
  ]
}